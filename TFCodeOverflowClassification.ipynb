{
 "cells": [
  {
   "cell_type": "code",
   "execution_count": 1,
   "id": "4023f77d-85d6-4110-90ae-1432cd274c21",
   "metadata": {},
   "outputs": [],
   "source": [
    "import tensorflow as tf\n",
    "import os\n",
    "import matplotlib.pyplot as plt"
   ]
  },
  {
   "cell_type": "code",
   "execution_count": 2,
   "id": "14e54167-71b5-47b1-a6b6-f69cecc935c7",
   "metadata": {},
   "outputs": [],
   "source": [
    "url = \"https://storage.googleapis.com/download.tensorflow.org/data/stack_overflow_16k.tar.gz\"\n",
    "\n",
    "dataset = tf.keras.utils.get_file(\"stack_oveflow_16k\", url,\n",
    "                                 untar=True, cache_dir='.\\stack_overflow',\n",
    "                                 cache_subdir='')\n",
    "\n",
    "dataset_dir = os.path.dirname(dataset)"
   ]
  },
  {
   "cell_type": "code",
   "execution_count": 3,
   "id": "4274cd71-9bfc-4eec-8dfb-eebcdded1157",
   "metadata": {},
   "outputs": [
    {
     "data": {
      "text/plain": [
       "['csharp', 'java', 'javascript', 'python']"
      ]
     },
     "execution_count": 3,
     "metadata": {},
     "output_type": "execute_result"
    }
   ],
   "source": [
    "train_dir = os.path.join(dataset_dir, 'train')\n",
    "os.listdir(train_dir)"
   ]
  },
  {
   "cell_type": "code",
   "execution_count": 4,
   "id": "a3415611-84e8-4089-a703-f241e4992ee1",
   "metadata": {},
   "outputs": [
    {
     "data": {
      "text/plain": [
       "['csharp', 'java', 'javascript', 'python']"
      ]
     },
     "execution_count": 4,
     "metadata": {},
     "output_type": "execute_result"
    }
   ],
   "source": [
    "test_dir = os.path.join(dataset_dir, 'test')\n",
    "os.listdir(test_dir)"
   ]
  },
  {
   "cell_type": "code",
   "execution_count": 5,
   "id": "858c1fda-6dd5-4ec0-93e7-0fc5b1da4418",
   "metadata": {},
   "outputs": [],
   "source": [
    "labels = os.listdir(train_dir)"
   ]
  },
  {
   "cell_type": "code",
   "execution_count": 6,
   "id": "c32449cb-d6b1-4eaf-91ea-7b44f23c6dbe",
   "metadata": {},
   "outputs": [
    {
     "name": "stdout",
     "output_type": "stream",
     "text": [
      "Found 8000 files belonging to 4 classes.\n",
      "Using 6400 files for training.\n"
     ]
    }
   ],
   "source": [
    "batch_size = 32\n",
    "seed = 42\n",
    "\n",
    "raw_train_ds = tf.keras.utils.text_dataset_from_directory(\n",
    "    train_dir, \n",
    "    batch_size=batch_size, \n",
    "    validation_split=0.2, \n",
    "    subset='training', \n",
    "    seed=seed)"
   ]
  },
  {
   "cell_type": "code",
   "execution_count": 7,
   "id": "39b198ad-3732-4c45-9a99-94ee13503f32",
   "metadata": {},
   "outputs": [
    {
     "name": "stdout",
     "output_type": "stream",
     "text": [
      "Found 8000 files belonging to 4 classes.\n",
      "Using 1600 files for validation.\n"
     ]
    }
   ],
   "source": [
    "batch_size = 32\n",
    "seed = 42\n",
    "\n",
    "raw_valid_ds = tf.keras.utils.text_dataset_from_directory(\n",
    "    train_dir, \n",
    "    batch_size=batch_size, \n",
    "    validation_split=0.2, \n",
    "    subset='validation', \n",
    "    seed=seed)"
   ]
  },
  {
   "cell_type": "code",
   "execution_count": 8,
   "id": "bbbb9739-e19f-4ccb-877b-805ae4db20bb",
   "metadata": {},
   "outputs": [
    {
     "name": "stdout",
     "output_type": "stream",
     "text": [
      "Review b' be easily fixed, please forgive me. my program has a tester class with a main. when i send that to my regularpolygon class, it sends it to the wrong constructor. i have two constructors. 1 without perameters..public regularpolygon().    {.       mynumsides = 5;.       mysidelength = 30;.    }//end '\n",
      "Label 1\n",
      "Review b\" the skin area of an image. but it's ridiculously slow. i don't know how to make it faster ?    ..from colormath.color_objects import *..def skindetection(img, treshold=80, color=[255,20,147]):..    print img.shape.    res=img.copy().    for x in range(img.shape[0]):.        for y in range(img.shape\"\n",
      "Label 3\n",
      "Review b' files, both rental.txt and customer.txt. inside each text are id numbers of the customer, the videotape they need and the price...i want to place it as an option on my code. right now i have:...add customer.rent return.view list.search.exit...i want to add this as my sixth option. say for example i'\n",
      "Label 1\n"
     ]
    }
   ],
   "source": [
    "for text_batch, label_batch in raw_train_ds.take(1):\n",
    "    for i in range(3):\n",
    "        print(\"Review\", text_batch.numpy()[i][100:400])\n",
    "        print(\"Label\", label_batch.numpy()[i])"
   ]
  },
  {
   "cell_type": "code",
   "execution_count": 9,
   "id": "1c98be01-7805-4257-b3e7-ab347f55b8ee",
   "metadata": {},
   "outputs": [
    {
     "name": "stdout",
     "output_type": "stream",
     "text": [
      "Found 8000 files belonging to 4 classes.\n"
     ]
    }
   ],
   "source": [
    "raw_test_ds = tf.keras.utils.text_dataset_from_directory(\n",
    "    test_dir, \n",
    "    batch_size=batch_size)"
   ]
  },
  {
   "cell_type": "code",
   "execution_count": 10,
   "id": "7ce019b8-01bd-4c22-bfa6-422a00bd064c",
   "metadata": {},
   "outputs": [],
   "source": [
    "max_features = 10000\n",
    "sequence_length = 250\n",
    "\n",
    "vectorize_layer = tf.keras.layers.TextVectorization(\n",
    "    standardize='lower',\n",
    "    max_tokens=max_features,\n",
    "    output_mode='int',\n",
    "    output_sequence_length=sequence_length)"
   ]
  },
  {
   "cell_type": "code",
   "execution_count": 11,
   "id": "f3121637-fc37-40d6-af8e-eb2ff8dec9c9",
   "metadata": {},
   "outputs": [
    {
     "name": "stdout",
     "output_type": "stream",
     "text": [
      "WARNING:tensorflow:From C:\\Users\\DNS\\AppData\\Local\\Programs\\Python\\Python310\\lib\\site-packages\\tensorflow\\python\\autograph\\pyct\\static_analysis\\liveness.py:83: Analyzer.lamba_check (from tensorflow.python.autograph.pyct.static_analysis.liveness) is deprecated and will be removed after 2023-09-23.\n",
      "Instructions for updating:\n",
      "Lambda fuctions will be no more assumed to be used in the statement where they are used, or at least in the same block. https://github.com/tensorflow/tensorflow/issues/56089\n"
     ]
    }
   ],
   "source": [
    "train_text = raw_train_ds.map(lambda x, y: x)\n",
    "vectorize_layer.adapt(train_text)"
   ]
  },
  {
   "cell_type": "code",
   "execution_count": 12,
   "id": "4604d97f-3c61-4912-ad74-860dc4a404a3",
   "metadata": {},
   "outputs": [],
   "source": [
    "def vectorize_text(text, label):\n",
    "    text = tf.expand_dims(text, -1)\n",
    "    return vectorize_layer(text), label"
   ]
  },
  {
   "cell_type": "code",
   "execution_count": 13,
   "id": "1c1f5e25-2a6c-4ad7-9403-7a761528d291",
   "metadata": {},
   "outputs": [],
   "source": [
    "train_ds = raw_train_ds.map(vectorize_text)\n",
    "val_ds = raw_valid_ds.map(vectorize_text)\n",
    "test_ds = raw_test_ds.map(vectorize_text)"
   ]
  },
  {
   "cell_type": "code",
   "execution_count": 14,
   "id": "f3967734-2810-4a61-9b21-f16d336416f9",
   "metadata": {},
   "outputs": [],
   "source": [
    "AUTOTUNE = tf.data.AUTOTUNE\n",
    "\n",
    "train_ds = train_ds.cache().prefetch(buffer_size=AUTOTUNE)\n",
    "val_ds = val_ds.cache().prefetch(buffer_size=AUTOTUNE)\n",
    "test_ds = test_ds.cache().prefetch(buffer_size=AUTOTUNE)"
   ]
  },
  {
   "cell_type": "code",
   "execution_count": 15,
   "id": "45c5dca4-a2a0-4eb9-a201-21315ccef693",
   "metadata": {},
   "outputs": [],
   "source": [
    "embedding_dim = 16"
   ]
  },
  {
   "cell_type": "code",
   "execution_count": 16,
   "id": "33211f2a-7302-4ee8-b208-08994ed955c3",
   "metadata": {},
   "outputs": [
    {
     "name": "stdout",
     "output_type": "stream",
     "text": [
      "Model: \"sequential\"\n",
      "_________________________________________________________________\n",
      " Layer (type)                Output Shape              Param #   \n",
      "=================================================================\n",
      " embedding (Embedding)       (None, None, 16)          160016    \n",
      "                                                                 \n",
      " dropout (Dropout)           (None, None, 16)          0         \n",
      "                                                                 \n",
      " global_average_pooling1d (G  (None, 16)               0         \n",
      " lobalAveragePooling1D)                                          \n",
      "                                                                 \n",
      " dropout_1 (Dropout)         (None, 16)                0         \n",
      "                                                                 \n",
      " dense (Dense)               (None, 4)                 68        \n",
      "                                                                 \n",
      "=================================================================\n",
      "Total params: 160,084\n",
      "Trainable params: 160,084\n",
      "Non-trainable params: 0\n",
      "_________________________________________________________________\n"
     ]
    }
   ],
   "source": [
    "model = tf.keras.Sequential([\n",
    "  tf.keras.layers.Embedding(max_features + 1, embedding_dim),\n",
    "  tf.keras.layers.Dropout(0.2),\n",
    "  tf.keras.layers.GlobalAveragePooling1D(),\n",
    "  tf.keras.layers.Dropout(0.2),\n",
    "  tf.keras.layers.Dense(4)])\n",
    "\n",
    "model.summary()"
   ]
  },
  {
   "cell_type": "code",
   "execution_count": 17,
   "id": "61183b64-b158-4e16-b809-77be50fc0257",
   "metadata": {},
   "outputs": [],
   "source": [
    "model.compile(loss=tf.keras.losses.SparseCategoricalCrossentropy(from_logits=True),\n",
    "              optimizer='adam',\n",
    "              metrics=['accuracy'])"
   ]
  },
  {
   "cell_type": "code",
   "execution_count": 18,
   "id": "8b01305d-01b8-4560-a2af-db372707e38b",
   "metadata": {},
   "outputs": [
    {
     "name": "stdout",
     "output_type": "stream",
     "text": [
      "Epoch 1/50\n",
      "200/200 [==============================] - 5s 20ms/step - loss: 1.3786 - accuracy: 0.3342 - val_loss: 1.3683 - val_accuracy: 0.4525\n",
      "Epoch 2/50\n",
      "200/200 [==============================] - 1s 4ms/step - loss: 1.3529 - accuracy: 0.4367 - val_loss: 1.3338 - val_accuracy: 0.4856\n",
      "Epoch 3/50\n",
      "200/200 [==============================] - 1s 4ms/step - loss: 1.3075 - accuracy: 0.5144 - val_loss: 1.2784 - val_accuracy: 0.5656\n",
      "Epoch 4/50\n",
      "200/200 [==============================] - 1s 4ms/step - loss: 1.2408 - accuracy: 0.5927 - val_loss: 1.2053 - val_accuracy: 0.6388\n",
      "Epoch 5/50\n",
      "200/200 [==============================] - 1s 4ms/step - loss: 1.1609 - accuracy: 0.6464 - val_loss: 1.1262 - val_accuracy: 0.6825\n",
      "Epoch 6/50\n",
      "200/200 [==============================] - 1s 4ms/step - loss: 1.0791 - accuracy: 0.7008 - val_loss: 1.0500 - val_accuracy: 0.7050\n",
      "Epoch 7/50\n",
      "200/200 [==============================] - 1s 4ms/step - loss: 1.0016 - accuracy: 0.7275 - val_loss: 0.9809 - val_accuracy: 0.7250\n",
      "Epoch 8/50\n",
      "200/200 [==============================] - 1s 4ms/step - loss: 0.9332 - accuracy: 0.7494 - val_loss: 0.9212 - val_accuracy: 0.7406\n",
      "Epoch 9/50\n",
      "200/200 [==============================] - 1s 4ms/step - loss: 0.8731 - accuracy: 0.7745 - val_loss: 0.8701 - val_accuracy: 0.7519\n",
      "Epoch 10/50\n",
      "200/200 [==============================] - 1s 4ms/step - loss: 0.8187 - accuracy: 0.7825 - val_loss: 0.8253 - val_accuracy: 0.7631\n",
      "Epoch 11/50\n",
      "200/200 [==============================] - 1s 4ms/step - loss: 0.7725 - accuracy: 0.7947 - val_loss: 0.7874 - val_accuracy: 0.7688\n",
      "Epoch 12/50\n",
      "200/200 [==============================] - 1s 4ms/step - loss: 0.7299 - accuracy: 0.8045 - val_loss: 0.7538 - val_accuracy: 0.7725\n",
      "Epoch 13/50\n",
      "200/200 [==============================] - 1s 4ms/step - loss: 0.6953 - accuracy: 0.8170 - val_loss: 0.7236 - val_accuracy: 0.7731\n",
      "Epoch 14/50\n",
      "200/200 [==============================] - 1s 4ms/step - loss: 0.6628 - accuracy: 0.8253 - val_loss: 0.6979 - val_accuracy: 0.7844\n",
      "Epoch 15/50\n",
      "200/200 [==============================] - 1s 5ms/step - loss: 0.6312 - accuracy: 0.8344 - val_loss: 0.6754 - val_accuracy: 0.7937\n",
      "Epoch 16/50\n",
      "200/200 [==============================] - 1s 5ms/step - loss: 0.6044 - accuracy: 0.8428 - val_loss: 0.6542 - val_accuracy: 0.7975\n",
      "Epoch 17/50\n",
      "200/200 [==============================] - 1s 5ms/step - loss: 0.5793 - accuracy: 0.8500 - val_loss: 0.6362 - val_accuracy: 0.8000\n",
      "Epoch 18/50\n",
      "200/200 [==============================] - 1s 5ms/step - loss: 0.5570 - accuracy: 0.8528 - val_loss: 0.6190 - val_accuracy: 0.8019\n",
      "Epoch 19/50\n",
      "200/200 [==============================] - 1s 5ms/step - loss: 0.5368 - accuracy: 0.8594 - val_loss: 0.6041 - val_accuracy: 0.8087\n",
      "Epoch 20/50\n",
      "200/200 [==============================] - 1s 5ms/step - loss: 0.5122 - accuracy: 0.8672 - val_loss: 0.5904 - val_accuracy: 0.8150\n",
      "Epoch 21/50\n",
      "200/200 [==============================] - 1s 5ms/step - loss: 0.4941 - accuracy: 0.8730 - val_loss: 0.5785 - val_accuracy: 0.8163\n",
      "Epoch 22/50\n",
      "200/200 [==============================] - 1s 5ms/step - loss: 0.4757 - accuracy: 0.8750 - val_loss: 0.5665 - val_accuracy: 0.8156\n",
      "Epoch 23/50\n",
      "200/200 [==============================] - 1s 5ms/step - loss: 0.4588 - accuracy: 0.8834 - val_loss: 0.5556 - val_accuracy: 0.8163\n",
      "Epoch 24/50\n",
      "200/200 [==============================] - 1s 5ms/step - loss: 0.4431 - accuracy: 0.8897 - val_loss: 0.5465 - val_accuracy: 0.8219\n",
      "Epoch 25/50\n",
      "200/200 [==============================] - 1s 5ms/step - loss: 0.4276 - accuracy: 0.8888 - val_loss: 0.5377 - val_accuracy: 0.8231\n",
      "Epoch 26/50\n",
      "200/200 [==============================] - 1s 5ms/step - loss: 0.4113 - accuracy: 0.8975 - val_loss: 0.5298 - val_accuracy: 0.8238\n",
      "Epoch 27/50\n",
      "200/200 [==============================] - 1s 5ms/step - loss: 0.3949 - accuracy: 0.8973 - val_loss: 0.5221 - val_accuracy: 0.8231\n",
      "Epoch 28/50\n",
      "200/200 [==============================] - 1s 5ms/step - loss: 0.3847 - accuracy: 0.9036 - val_loss: 0.5155 - val_accuracy: 0.8219\n",
      "Epoch 29/50\n",
      "200/200 [==============================] - 1s 5ms/step - loss: 0.3715 - accuracy: 0.9066 - val_loss: 0.5103 - val_accuracy: 0.8263\n",
      "Epoch 30/50\n",
      "200/200 [==============================] - 1s 5ms/step - loss: 0.3593 - accuracy: 0.9147 - val_loss: 0.5038 - val_accuracy: 0.8225\n",
      "Epoch 31/50\n",
      "200/200 [==============================] - 1s 5ms/step - loss: 0.3471 - accuracy: 0.9158 - val_loss: 0.4991 - val_accuracy: 0.8225\n",
      "Epoch 32/50\n",
      "200/200 [==============================] - 1s 5ms/step - loss: 0.3398 - accuracy: 0.9145 - val_loss: 0.4951 - val_accuracy: 0.8250\n",
      "Epoch 33/50\n",
      "200/200 [==============================] - 1s 5ms/step - loss: 0.3259 - accuracy: 0.9206 - val_loss: 0.4901 - val_accuracy: 0.8269\n",
      "Epoch 34/50\n",
      "200/200 [==============================] - 1s 5ms/step - loss: 0.3159 - accuracy: 0.9262 - val_loss: 0.4861 - val_accuracy: 0.8250\n",
      "Epoch 35/50\n",
      "200/200 [==============================] - 1s 5ms/step - loss: 0.3043 - accuracy: 0.9294 - val_loss: 0.4830 - val_accuracy: 0.8256\n",
      "Epoch 36/50\n",
      "200/200 [==============================] - 1s 5ms/step - loss: 0.2965 - accuracy: 0.9294 - val_loss: 0.4797 - val_accuracy: 0.8263\n",
      "Epoch 37/50\n",
      "200/200 [==============================] - 1s 5ms/step - loss: 0.2867 - accuracy: 0.9341 - val_loss: 0.4767 - val_accuracy: 0.8263\n",
      "Epoch 38/50\n",
      "200/200 [==============================] - 1s 5ms/step - loss: 0.2795 - accuracy: 0.9347 - val_loss: 0.4749 - val_accuracy: 0.8256\n",
      "Epoch 39/50\n",
      "200/200 [==============================] - 1s 5ms/step - loss: 0.2692 - accuracy: 0.9388 - val_loss: 0.4726 - val_accuracy: 0.8256\n",
      "Epoch 40/50\n",
      "200/200 [==============================] - 1s 5ms/step - loss: 0.2595 - accuracy: 0.9422 - val_loss: 0.4715 - val_accuracy: 0.8256\n",
      "Epoch 41/50\n",
      "200/200 [==============================] - 1s 5ms/step - loss: 0.2532 - accuracy: 0.9436 - val_loss: 0.4687 - val_accuracy: 0.8269\n",
      "Epoch 42/50\n",
      "200/200 [==============================] - 1s 5ms/step - loss: 0.2478 - accuracy: 0.9461 - val_loss: 0.4676 - val_accuracy: 0.8231\n",
      "Epoch 43/50\n",
      "200/200 [==============================] - 1s 5ms/step - loss: 0.2369 - accuracy: 0.9461 - val_loss: 0.4670 - val_accuracy: 0.8231\n",
      "Epoch 44/50\n",
      "200/200 [==============================] - 1s 5ms/step - loss: 0.2315 - accuracy: 0.9484 - val_loss: 0.4662 - val_accuracy: 0.8219\n",
      "Epoch 45/50\n",
      "200/200 [==============================] - 1s 5ms/step - loss: 0.2257 - accuracy: 0.9508 - val_loss: 0.4651 - val_accuracy: 0.8250\n",
      "Epoch 46/50\n",
      "200/200 [==============================] - 1s 5ms/step - loss: 0.2140 - accuracy: 0.9552 - val_loss: 0.4653 - val_accuracy: 0.8250\n",
      "Epoch 47/50\n",
      "200/200 [==============================] - 1s 5ms/step - loss: 0.2096 - accuracy: 0.9583 - val_loss: 0.4665 - val_accuracy: 0.8231\n",
      "Epoch 48/50\n",
      "200/200 [==============================] - 1s 5ms/step - loss: 0.2058 - accuracy: 0.9580 - val_loss: 0.4657 - val_accuracy: 0.8213\n",
      "Epoch 49/50\n",
      "200/200 [==============================] - 1s 5ms/step - loss: 0.1979 - accuracy: 0.9589 - val_loss: 0.4652 - val_accuracy: 0.8231\n",
      "Epoch 50/50\n",
      "200/200 [==============================] - 1s 5ms/step - loss: 0.1922 - accuracy: 0.9591 - val_loss: 0.4664 - val_accuracy: 0.8238\n"
     ]
    }
   ],
   "source": [
    "epochs = 50\n",
    "train_history = model.fit(\n",
    "    train_ds,\n",
    "    validation_data=val_ds,\n",
    "    epochs=epochs)"
   ]
  },
  {
   "cell_type": "code",
   "execution_count": 19,
   "id": "0a3fa747-9ce6-46ec-96fc-14b54288b3c8",
   "metadata": {},
   "outputs": [
    {
     "data": {
      "text/plain": [
       "<matplotlib.legend.Legend at 0x17ca29ca5f0>"
      ]
     },
     "execution_count": 19,
     "metadata": {},
     "output_type": "execute_result"
    },
    {
     "data": {
      "image/png": "[encoded data removed]",
      "text/plain": [
       "<Figure size 640x480 with 1 Axes>"
      ]
     },
     "metadata": {},
     "output_type": "display_data"
    }
   ],
   "source": [
    "plt.plot(train_history.history['loss'])\n",
    "plt.plot(train_history.history['accuracy'])\n",
    "plt.legend(['Loss', 'Accuracy'])"
   ]
  },
  {
   "cell_type": "code",
   "execution_count": 20,
   "id": "6466dfc5-b2c4-4b2b-8422-99076c9f01fa",
   "metadata": {},
   "outputs": [
    {
     "data": {
      "text/plain": [
       "<matplotlib.legend.Legend at 0x17ca2973df0>"
      ]
     },
     "execution_count": 20,
     "metadata": {},
     "output_type": "execute_result"
    },
    {
     "data": {
      "image/png": "[encoded data removed]",
      "text/plain": [
       "<Figure size 640x480 with 1 Axes>"
      ]
     },
     "metadata": {},
     "output_type": "display_data"
    }
   ],
   "source": [
    "plt.plot(train_history.history['val_loss'])\n",
    "plt.plot(train_history.history['val_accuracy'])\n",
    "plt.legend(['Loss', 'Accuracy'])"
   ]
  },
  {
   "cell_type": "code",
   "execution_count": 21,
   "id": "a8485738-a584-470c-8000-6c26746df614",
   "metadata": {},
   "outputs": [
    {
     "name": "stdout",
     "output_type": "stream",
     "text": [
      "250/250 [==============================] - 10s 37ms/step - loss: 0.5279 - accuracy: 0.8026\n"
     ]
    },
    {
     "data": {
      "text/plain": [
       "[0.5278983116149902, 0.8026250004768372]"
      ]
     },
     "execution_count": 21,
     "metadata": {},
     "output_type": "execute_result"
    }
   ],
   "source": [
    "model.evaluate(test_ds)"
   ]
  },
  {
   "cell_type": "code",
   "execution_count": 22,
   "id": "a9ac18d4-20dc-439c-afcf-a5f47a2d9ee4",
   "metadata": {},
   "outputs": [],
   "source": [
    "model.save('CodeOverflowClassification.h5')"
   ]
  },
  {
   "cell_type": "markdown",
   "id": "0e7f11bf-3212-4ea5-b1a2-d9c79fd05fbe",
   "metadata": {},
   "source": [
    "# Test it yourself!"
   ]
  },
  {
   "cell_type": "code",
   "execution_count": 23,
   "id": "bc009c54-0f85-489f-893b-58b37bf32999",
   "metadata": {},
   "outputs": [],
   "source": [
    "working_model = tf.keras.models.load_model('CodeOverflowClassification.h5')"
   ]
  },
  {
   "cell_type": "code",
   "execution_count": 24,
   "id": "8dcd682b-33ed-4851-90b6-70f512944c63",
   "metadata": {},
   "outputs": [
    {
     "name": "stdin",
     "output_type": "stream",
     "text": [
      " 0   I have a dataframe containing sensor measurements and labels structured as time series data that looks a bit like this:  df = pd.DataFrame( {'Sensor_ID': {Timestamp('2022-07-04 14:10:54.259355+0000', tz='UTC'): 'sensornode0009', Timestamp('2022-07-04 14:10:54.401380+0000', tz='UTC'): 'sensornode0015', Timestamp('2022-07-04 14:10:55.401182+0000', tz='UTC'): 'sensornode0011', Timestamp('2022-07-04 14:10:55.899093+0000', tz='UTC'): 'sensornode0012', Timestamp('2022-07-04 14:10:59.346954+0000', tz='UTC'): 'sensornode0016'}, 'CO2_Room': {Timestamp('2022-07-04 14:10:54.259355+0000', tz='UTC'): 1150.0, Timestamp('2022-07-04 14:10:54.401380+0000', tz='UTC'): 1300.0, Timestamp('2022-07-04 14:10:55.401182+0000', tz='UTC'): 412.0, Timestamp('2022-07-04 14:10:55.899093+0000', tz='UTC'): 1100.0, Timestamp('2022-07-04 14:10:59.346954+0000', tz='UTC'): 1392.0}, 'CO_Room': {Timestamp('2022-07-04 14:10:54.259355+0000', tz='UTC'): -0.43, Timestamp('2022-07-04 14:10:54.401380+0000', tz='UTC'): -0.08, Timestamp('2022-07-04 14:10:55.401182+0000', tz='UTC'): -0.08, Timestamp('2022-07-04 14:10:55.899093+0000', tz='UTC'): -0.16, Timestamp('2022-07-04 14:10:59.346954+0000', tz='UTC'): 0.18}, 'H2_Room': {Timestamp('2022-07-04 14:10:54.259355+0000', tz='UTC'): 0.13, Timestamp('2022-07-04 14:10:54.401380+0000', tz='UTC'): 0.12, Timestamp('2022-07-04 14:10:55.401182+0000', tz='UTC'): 0.22, Timestamp('2022-07-04 14:10:55.899093+0000', tz='UTC'): 0.13, Timestamp('2022-07-04 14:10:59.346954+0000', tz='UTC'): 0.09}, 'Humidity_Room': {Timestamp('2022-07-04 14:10:54.259355+0000', tz='UTC'): 51.5, Timestamp('2022-07-04 14:10:54.401380+0000', tz='UTC'): 52.85, Timestamp('2022-07-04 14:10:55.401182+0000', tz='UTC'): 50.6, Timestamp('2022-07-04 14:10:55.899093+0000', tz='UTC'): 52.66, Timestamp('2022-07-04 14:10:59.346954+0000', tz='UTC'): 52.53}, 'PM05_Room': {Timestamp('2022-07-04 14:10:54.259355+0000', tz='UTC'): 15.0, Timestamp('2022-07-04 14:10:54.401380+0000', tz='UTC'): 7.0, Timestamp('2022-07-04 14:10:55.401182+0000', tz='UTC'): 16.0, Timestamp('2022-07-04 14:10:55.899093+0000', tz='UTC'): 13.0, Timestamp('2022-07-04 14:10:59.346954+0000', tz='UTC'): 10.0}, 'PM100_Room': {Timestamp('2022-07-04 14:10:54.259355+0000', tz='UTC'): 0.0, Timestamp('2022-07-04 14:10:54.401380+0000', tz='UTC'): 0.0, Timestamp('2022-07-04 14:10:55.401182+0000', tz='UTC'): 0.0, Timestamp('2022-07-04 14:10:55.899093+0000', tz='UTC'): 0.0, Timestamp('2022-07-04 14:10:59.346954+0000', tz='UTC'): 0.0}, 'PM10_Room': {Timestamp('2022-07-04 14:10:54.259355+0000', tz='UTC'): 2.0, Timestamp('2022-07-04 14:10:54.401380+0000', tz='UTC'): 0.0, Timestamp('2022-07-04 14:10:55.401182+0000', tz='UTC'): 2.0, Timestamp('2022-07-04 14:10:55.899093+0000', tz='UTC'): 1.0, Timestamp('2022-07-04 14:10:59.346954+0000', tz='UTC'): 1.0}, 'PM25_Room': {Timestamp('2022-07-04 14:10:54.259355+0000', tz='UTC'): 0.0, Timestamp('2022-07-04 14:10:54.401380+0000', tz='UTC'): 0.0, Timestamp('2022-07-04 14:10:55.401182+0000', tz='UTC'): 0.0, Timestamp('2022-07-04 14:10:55.899093+0000', tz='UTC'): 0.0, Timestamp('2022-07-04 14:10:59.346954+0000', tz='UTC'): 0.0}, 'PM40_Room': {Timestamp('2022-07-04 14:10:54.259355+0000', tz='UTC'): 0.0, Timestamp('2022-07-04 14:10:54.401380+0000', tz='UTC'): 0.0, Timestamp('2022-07-04 14:10:55.401182+0000', tz='UTC'): 0.0, Timestamp('2022-07-04 14:10:55.899093+0000', tz='UTC'): 0.0, Timestamp('2022-07-04 14:10:59.346954+0000', tz='UTC'): 0.0}, 'PM_Room_Typical_Size': {Timestamp('2022-07-04 14:10:54.259355+0000', tz='UTC'): 0.4, Timestamp('2022-07-04 14:10:54.401380+0000', tz='UTC'): 0.45, Timestamp('2022-07-04 14:10:55.401182+0000', tz='UTC'): 0.47, Timestamp('2022-07-04 14:10:55.899093+0000', tz='UTC'): 0.42, Timestamp('2022-07-04 14:10:59.346954+0000', tz='UTC'): 0.44}, 'PM_Total_Room': {Timestamp('2022-07-04 14:10:54.259355+0000', tz='UTC'): 17.0, Timestamp('2022-07-04 14:10:54.401380+0000', tz='UTC'): 8.0, Timestamp('2022-07-04 14:10:55.401182+0000', tz='UTC'): 19.0, Timestamp('2022-07-04 14:10:55.899093+0000', tz='UTC'): 15.0, Timestamp('2022-07-04 14:10:59.346954+0000', tz='UTC'): 11.0}, 'Temperature_Room': {Timestamp('2022-07-04 14:10:54.259355+0000', tz='UTC'): 26.3, Timestamp('2022-07-04 14:10:54.401380+0000', tz='UTC'): 25.7, Timestamp('2022-07-04 14:10:55.401182+0000', tz='UTC'): 26.5, Timestamp('2022-07-04 14:10:55.899093+0000', tz='UTC'): 25.9, Timestamp('2022-07-04 14:10:59.346954+0000', tz='UTC'): 26.0}, 'UV_Room': {Timestamp('2022-07-04 14:10:54.259355+0000', tz='UTC'): 0.0, Timestamp('2022-07-04 14:10:54.401380+0000', tz='UTC'): 0.0, Timestamp('2022-07-04 14:10:55.401182+0000', tz='UTC'): 0.0, Timestamp('2022-07-04 14:10:55.899093+0000', tz='UTC'): 0.0, Timestamp('2022-07-04 14:10:59.346954+0000', tz='UTC'): 0.0}, 'VOC_Room_RAW': {Timestamp('2022-07-04 14:10:54.259355+0000', tz='UTC'): 0.5, Timestamp('2022-07-04 14:10:54.401380+0000', tz='UTC'): 0.5, Timestamp('2022-07-04 14:10:55.401182+0000', tz='UTC'): 0.5, Timestamp('2022-07-04 14:10:55.899093+0000', tz='UTC'): 0.6, Timestamp('2022-07-04 14:10:59.346954+0000', tz='UTC'): 0.5}, 'scenario_label': {Timestamp('2022-07-04 14:10:54.259355+0000', tz='UTC'): 'Background', Timestamp('2022-07-04 14:10:54.401380+0000', tz='UTC'): 'Background', Timestamp('2022-07-04 14:10:55.401182+0000', tz='UTC'): 'Background', Timestamp('2022-07-04 14:10:55.899093+0000', tz='UTC'): 'Background', Timestamp('2022-07-04 14:10:59.346954+0000', tz='UTC'): 'Background'}, 'anomaly_label': {Timestamp('2022-07-04 14:10:54.259355+0000', tz='UTC'): 'Normal', Timestamp('2022-07-04 14:10:54.401380+0000', tz='UTC'): 'Normal', Timestamp('2022-07-04 14:10:55.401182+0000', tz='UTC'): 'Normal', Timestamp('2022-07-04 14:10:55.899093+0000', tz='UTC'): 'Normal', Timestamp('2022-07-04 14:10:59.346954+0000', tz='UTC'): 'Normal'}, 'ternary_label': {Timestamp('2022-07-04 14:10:54.259355+0000', tz='UTC'): 'Background', Timestamp('2022-07-04 14:10:54.401380+0000', tz='UTC'): 'Background', Timestamp('2022-07-04 14:10:55.401182+0000', tz='UTC'): 'Background', Timestamp('2022-07-04 14:10:55.899093+0000', tz='UTC'): 'Background', Timestamp('2022-07-04 14:10:59.346954+0000', tz='UTC'): 'Background'}} ) I want to select a subsequence of the time series dataframe (defined by an start and end DatetimeIndex), cut it from the original position and insert the subsequence at the new position in the time series. The \"gap\" from the original position of the subsequence should be set to NaN so that these values can be imputed in an additional step e.g.  So far I´ve tryed to use the following function for this problem:  def move_subsequence(df, start, end, new_start):     \"\"\"     Move a subsequence of a time series to a new position.      Parameters:     df (pandas.DataFrame): The time series to modify.     start (pandas.Timestamp): The start time of the subsequence to move.     end (pandas.Timestamp): The end time of the subsequence to move.     new_start (pandas.Timestamp): The new start time for the subsequence.      Returns:     pandas.DataFrame: The modified time series.     \"\"\"     # Extract the subsequence to move     subsequence = df.loc[start:end]      # Remove the subsequence from its original position     df = df.drop(subsequence.index)      # Calculate the length of the subsequence     subseq_length = len(subsequence)      # Insert the subsequence at the new position     if new_start > start:         df = pd.concat([df.loc[:new_start - timedelta(subseq_length)], subsequence, df.loc[new_start:]])     else:         df = pd.concat([df.loc[:new_start], subsequence, df.loc[new_start + timedelta(subseq_length):]])      return df\n"
     ]
    },
    {
     "name": "stdout",
     "output_type": "stream",
     "text": [
      "1/1 [==============================] - 0s 130ms/step\n"
     ]
    },
    {
     "data": {
      "text/plain": [
       "'python'"
      ]
     },
     "execution_count": 24,
     "metadata": {},
     "output_type": "execute_result"
    }
   ],
   "source": [
    "query = input()\n",
    "prediction = labels[working_model.predict(vectorize_layer(tf.expand_dims(query, -1))).argmax()]\n",
    "prediction"
   ]
  }
 ],
 "metadata": {
  "kernelspec": {
   "display_name": "Python 3 (ipykernel)",
   "language": "python",
   "name": "python3"
  },
  "language_info": {
   "codemirror_mode": {
    "name": "ipython",
    "version": 3
   },
   "file_extension": ".py",
   "mimetype": "text/x-python",
   "name": "python",
   "nbconvert_exporter": "python",
   "pygments_lexer": "ipython3",
   "version": "3.10.6"
  }
 },
 "nbformat": 4,
 "nbformat_minor": 5
}
